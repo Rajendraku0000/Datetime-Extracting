{
 "cells": [
  {
   "cell_type": "code",
   "execution_count": 2,
   "id": "34503c50",
   "metadata": {},
   "outputs": [],
   "source": [
    "import numpy as np \n",
    "\n",
    "import pandas as pd "
   ]
  },
  {
   "cell_type": "code",
   "execution_count": 15,
   "id": "d51f9a81",
   "metadata": {},
   "outputs": [],
   "source": [
    "# df = pd.read_csv(\"C:\\\\Users\\\\saurabh\\\\Desktop\\\\pyth\\\\messages.csv\")\n",
    "df = pd.read_csv(\"C:\\\\Users\\\\Shree com\\\\Desktop\\\\Data\\\\ecommerce_data.csv\")"
   ]
  },
  {
   "cell_type": "code",
   "execution_count": 16,
   "id": "1e4d2e80",
   "metadata": {},
   "outputs": [
    {
     "data": {
      "text/html": [
       "<div>\n",
       "<style scoped>\n",
       "    .dataframe tbody tr th:only-of-type {\n",
       "        vertical-align: middle;\n",
       "    }\n",
       "\n",
       "    .dataframe tbody tr th {\n",
       "        vertical-align: top;\n",
       "    }\n",
       "\n",
       "    .dataframe thead th {\n",
       "        text-align: right;\n",
       "    }\n",
       "</style>\n",
       "<table border=\"1\" class=\"dataframe\">\n",
       "  <thead>\n",
       "    <tr style=\"text-align: right;\">\n",
       "      <th></th>\n",
       "      <th>date</th>\n",
       "      <th>product_id</th>\n",
       "      <th>city_id</th>\n",
       "      <th>orders</th>\n",
       "    </tr>\n",
       "  </thead>\n",
       "  <tbody>\n",
       "    <tr>\n",
       "      <th>0</th>\n",
       "      <td>2019-12-16</td>\n",
       "      <td>1897</td>\n",
       "      <td>26</td>\n",
       "      <td>2</td>\n",
       "    </tr>\n",
       "    <tr>\n",
       "      <th>1</th>\n",
       "      <td>2019-12-16</td>\n",
       "      <td>4850</td>\n",
       "      <td>26</td>\n",
       "      <td>4</td>\n",
       "    </tr>\n",
       "    <tr>\n",
       "      <th>2</th>\n",
       "      <td>2019-12-16</td>\n",
       "      <td>2466</td>\n",
       "      <td>26</td>\n",
       "      <td>1</td>\n",
       "    </tr>\n",
       "  </tbody>\n",
       "</table>\n",
       "</div>"
      ],
      "text/plain": [
       "         date  product_id  city_id  orders\n",
       "0  2019-12-16        1897       26       2\n",
       "1  2019-12-16        4850       26       4\n",
       "2  2019-12-16        2466       26       1"
      ]
     },
     "execution_count": 16,
     "metadata": {},
     "output_type": "execute_result"
    }
   ],
   "source": [
    "df.head(3)"
   ]
  },
  {
   "cell_type": "code",
   "execution_count": 17,
   "id": "02c6bac0",
   "metadata": {},
   "outputs": [
    {
     "data": {
      "text/html": [
       "<div>\n",
       "<style scoped>\n",
       "    .dataframe tbody tr th:only-of-type {\n",
       "        vertical-align: middle;\n",
       "    }\n",
       "\n",
       "    .dataframe tbody tr th {\n",
       "        vertical-align: top;\n",
       "    }\n",
       "\n",
       "    .dataframe thead th {\n",
       "        text-align: right;\n",
       "    }\n",
       "</style>\n",
       "<table border=\"1\" class=\"dataframe\">\n",
       "  <thead>\n",
       "    <tr style=\"text-align: right;\">\n",
       "      <th></th>\n",
       "      <th>date</th>\n",
       "      <th>product_id</th>\n",
       "      <th>city_id</th>\n",
       "      <th>orders</th>\n",
       "    </tr>\n",
       "  </thead>\n",
       "  <tbody>\n",
       "    <tr>\n",
       "      <th>0</th>\n",
       "      <td>2019-12-16</td>\n",
       "      <td>1897</td>\n",
       "      <td>26</td>\n",
       "      <td>2</td>\n",
       "    </tr>\n",
       "    <tr>\n",
       "      <th>1</th>\n",
       "      <td>2019-12-16</td>\n",
       "      <td>4850</td>\n",
       "      <td>26</td>\n",
       "      <td>4</td>\n",
       "    </tr>\n",
       "    <tr>\n",
       "      <th>2</th>\n",
       "      <td>2019-12-16</td>\n",
       "      <td>2466</td>\n",
       "      <td>26</td>\n",
       "      <td>1</td>\n",
       "    </tr>\n",
       "  </tbody>\n",
       "</table>\n",
       "</div>"
      ],
      "text/plain": [
       "         date  product_id  city_id  orders\n",
       "0  2019-12-16        1897       26       2\n",
       "1  2019-12-16        4850       26       4\n",
       "2  2019-12-16        2466       26       1"
      ]
     },
     "execution_count": 17,
     "metadata": {},
     "output_type": "execute_result"
    }
   ],
   "source": [
    "df2.head(3)"
   ]
  },
  {
   "cell_type": "code",
   "execution_count": 18,
   "id": "7e0270af",
   "metadata": {},
   "outputs": [
    {
     "name": "stdout",
     "output_type": "stream",
     "text": [
      "<class 'pandas.core.frame.DataFrame'>\n",
      "RangeIndex: 523684 entries, 0 to 523683\n",
      "Data columns (total 4 columns):\n",
      " #   Column      Non-Null Count   Dtype \n",
      "---  ------      --------------   ----- \n",
      " 0   date        523684 non-null  object\n",
      " 1   product_id  523684 non-null  int64 \n",
      " 2   city_id     523684 non-null  int64 \n",
      " 3   orders      523684 non-null  int64 \n",
      "dtypes: int64(3), object(1)\n",
      "memory usage: 16.0+ MB\n"
     ]
    }
   ],
   "source": [
    "df2.info() "
   ]
  },
  {
   "cell_type": "code",
   "execution_count": 19,
   "id": "b6c71f58",
   "metadata": {},
   "outputs": [
    {
     "name": "stdout",
     "output_type": "stream",
     "text": [
      "<class 'pandas.core.frame.DataFrame'>\n",
      "RangeIndex: 523684 entries, 0 to 523683\n",
      "Data columns (total 4 columns):\n",
      " #   Column      Non-Null Count   Dtype \n",
      "---  ------      --------------   ----- \n",
      " 0   date        523684 non-null  object\n",
      " 1   product_id  523684 non-null  int64 \n",
      " 2   city_id     523684 non-null  int64 \n",
      " 3   orders      523684 non-null  int64 \n",
      "dtypes: int64(3), object(1)\n",
      "memory usage: 16.0+ MB\n"
     ]
    }
   ],
   "source": [
    "df.info() "
   ]
  },
  {
   "cell_type": "markdown",
   "id": "97d41c47",
   "metadata": {},
   "source": [
    "# Working with Dates"
   ]
  },
  {
   "cell_type": "markdown",
   "id": "c43c9ee5",
   "metadata": {},
   "source": [
    "\n",
    "\n"
   ]
  },
  {
   "cell_type": "code",
   "execution_count": 20,
   "id": "9370648f",
   "metadata": {},
   "outputs": [],
   "source": [
    "# converting to datetime datatype  \n",
    "\n",
    "df2['date'] = pd.to_datetime(df2['date'])"
   ]
  },
  {
   "cell_type": "code",
   "execution_count": 21,
   "id": "37e508b8",
   "metadata": {},
   "outputs": [
    {
     "data": {
      "text/plain": [
       "0        2019-12-16\n",
       "1        2019-12-16\n",
       "2        2019-12-16\n",
       "3        2019-12-16\n",
       "4        2019-12-16\n",
       "            ...    \n",
       "523679   2019-01-02\n",
       "523680   2019-01-04\n",
       "523681   2019-01-08\n",
       "523682   2019-01-09\n",
       "523683   2019-01-10\n",
       "Name: date, Length: 523684, dtype: datetime64[ns]"
      ]
     },
     "execution_count": 21,
     "metadata": {},
     "output_type": "execute_result"
    }
   ],
   "source": [
    "df2['date']"
   ]
  },
  {
   "cell_type": "code",
   "execution_count": 22,
   "id": "b6c46f97",
   "metadata": {},
   "outputs": [
    {
     "name": "stdout",
     "output_type": "stream",
     "text": [
      "<class 'pandas.core.frame.DataFrame'>\n",
      "RangeIndex: 523684 entries, 0 to 523683\n",
      "Data columns (total 4 columns):\n",
      " #   Column      Non-Null Count   Dtype         \n",
      "---  ------      --------------   -----         \n",
      " 0   date        523684 non-null  datetime64[ns]\n",
      " 1   product_id  523684 non-null  int64         \n",
      " 2   city_id     523684 non-null  int64         \n",
      " 3   orders      523684 non-null  int64         \n",
      "dtypes: datetime64[ns](1), int64(3)\n",
      "memory usage: 16.0 MB\n"
     ]
    }
   ],
   "source": [
    "df2.info() "
   ]
  },
  {
   "cell_type": "markdown",
   "id": "5aec10fb",
   "metadata": {},
   "source": [
    "# 1. Extract Year "
   ]
  },
  {
   "cell_type": "code",
   "execution_count": 23,
   "id": "472741b4",
   "metadata": {},
   "outputs": [],
   "source": [
    "df2['date_year'] = df2['date'].dt.year"
   ]
  },
  {
   "cell_type": "code",
   "execution_count": 24,
   "id": "742babed",
   "metadata": {},
   "outputs": [
    {
     "data": {
      "text/plain": [
       "0         2019\n",
       "1         2019\n",
       "2         2019\n",
       "3         2019\n",
       "4         2019\n",
       "          ... \n",
       "523679    2019\n",
       "523680    2019\n",
       "523681    2019\n",
       "523682    2019\n",
       "523683    2019\n",
       "Name: date_year, Length: 523684, dtype: int64"
      ]
     },
     "execution_count": 24,
     "metadata": {},
     "output_type": "execute_result"
    }
   ],
   "source": [
    "df2['date_year']"
   ]
  },
  {
   "cell_type": "code",
   "execution_count": 25,
   "id": "33f02108",
   "metadata": {},
   "outputs": [
    {
     "data": {
      "text/html": [
       "<div>\n",
       "<style scoped>\n",
       "    .dataframe tbody tr th:only-of-type {\n",
       "        vertical-align: middle;\n",
       "    }\n",
       "\n",
       "    .dataframe tbody tr th {\n",
       "        vertical-align: top;\n",
       "    }\n",
       "\n",
       "    .dataframe thead th {\n",
       "        text-align: right;\n",
       "    }\n",
       "</style>\n",
       "<table border=\"1\" class=\"dataframe\">\n",
       "  <thead>\n",
       "    <tr style=\"text-align: right;\">\n",
       "      <th></th>\n",
       "      <th>date</th>\n",
       "      <th>product_id</th>\n",
       "      <th>city_id</th>\n",
       "      <th>orders</th>\n",
       "      <th>date_year</th>\n",
       "    </tr>\n",
       "  </thead>\n",
       "  <tbody>\n",
       "    <tr>\n",
       "      <th>61076</th>\n",
       "      <td>2019-05-15</td>\n",
       "      <td>6671</td>\n",
       "      <td>20</td>\n",
       "      <td>28</td>\n",
       "      <td>2019</td>\n",
       "    </tr>\n",
       "    <tr>\n",
       "      <th>226862</th>\n",
       "      <td>2019-04-09</td>\n",
       "      <td>21</td>\n",
       "      <td>24</td>\n",
       "      <td>1</td>\n",
       "      <td>2019</td>\n",
       "    </tr>\n",
       "    <tr>\n",
       "      <th>261102</th>\n",
       "      <td>2019-11-14</td>\n",
       "      <td>147</td>\n",
       "      <td>23</td>\n",
       "      <td>1</td>\n",
       "      <td>2019</td>\n",
       "    </tr>\n",
       "    <tr>\n",
       "      <th>371685</th>\n",
       "      <td>2019-06-26</td>\n",
       "      <td>7541</td>\n",
       "      <td>18</td>\n",
       "      <td>2</td>\n",
       "      <td>2019</td>\n",
       "    </tr>\n",
       "  </tbody>\n",
       "</table>\n",
       "</div>"
      ],
      "text/plain": [
       "             date  product_id  city_id  orders  date_year\n",
       "61076  2019-05-15        6671       20      28       2019\n",
       "226862 2019-04-09          21       24       1       2019\n",
       "261102 2019-11-14         147       23       1       2019\n",
       "371685 2019-06-26        7541       18       2       2019"
      ]
     },
     "execution_count": 25,
     "metadata": {},
     "output_type": "execute_result"
    }
   ],
   "source": [
    "df2.sample(4) "
   ]
  },
  {
   "cell_type": "markdown",
   "id": "ecba2eba",
   "metadata": {},
   "source": [
    "# 2 . Extract Month "
   ]
  },
  {
   "cell_type": "code",
   "execution_count": 26,
   "id": "13e54631",
   "metadata": {},
   "outputs": [],
   "source": [
    "df2['date_month'] = df2['date'].dt.month"
   ]
  },
  {
   "cell_type": "code",
   "execution_count": 27,
   "id": "48cfd0c0",
   "metadata": {},
   "outputs": [
    {
     "data": {
      "text/html": [
       "<div>\n",
       "<style scoped>\n",
       "    .dataframe tbody tr th:only-of-type {\n",
       "        vertical-align: middle;\n",
       "    }\n",
       "\n",
       "    .dataframe tbody tr th {\n",
       "        vertical-align: top;\n",
       "    }\n",
       "\n",
       "    .dataframe thead th {\n",
       "        text-align: right;\n",
       "    }\n",
       "</style>\n",
       "<table border=\"1\" class=\"dataframe\">\n",
       "  <thead>\n",
       "    <tr style=\"text-align: right;\">\n",
       "      <th></th>\n",
       "      <th>date</th>\n",
       "      <th>product_id</th>\n",
       "      <th>city_id</th>\n",
       "      <th>orders</th>\n",
       "      <th>date_year</th>\n",
       "      <th>date_month</th>\n",
       "    </tr>\n",
       "  </thead>\n",
       "  <tbody>\n",
       "    <tr>\n",
       "      <th>223645</th>\n",
       "      <td>2019-02-23</td>\n",
       "      <td>2196</td>\n",
       "      <td>18</td>\n",
       "      <td>3</td>\n",
       "      <td>2019</td>\n",
       "      <td>2</td>\n",
       "    </tr>\n",
       "    <tr>\n",
       "      <th>193529</th>\n",
       "      <td>2019-03-09</td>\n",
       "      <td>2324</td>\n",
       "      <td>9</td>\n",
       "      <td>13</td>\n",
       "      <td>2019</td>\n",
       "      <td>3</td>\n",
       "    </tr>\n",
       "    <tr>\n",
       "      <th>343008</th>\n",
       "      <td>2019-06-08</td>\n",
       "      <td>83</td>\n",
       "      <td>25</td>\n",
       "      <td>1</td>\n",
       "      <td>2019</td>\n",
       "      <td>6</td>\n",
       "    </tr>\n",
       "    <tr>\n",
       "      <th>181377</th>\n",
       "      <td>2019-01-14</td>\n",
       "      <td>901</td>\n",
       "      <td>23</td>\n",
       "      <td>10</td>\n",
       "      <td>2019</td>\n",
       "      <td>1</td>\n",
       "    </tr>\n",
       "  </tbody>\n",
       "</table>\n",
       "</div>"
      ],
      "text/plain": [
       "             date  product_id  city_id  orders  date_year  date_month\n",
       "223645 2019-02-23        2196       18       3       2019           2\n",
       "193529 2019-03-09        2324        9      13       2019           3\n",
       "343008 2019-06-08          83       25       1       2019           6\n",
       "181377 2019-01-14         901       23      10       2019           1"
      ]
     },
     "execution_count": 27,
     "metadata": {},
     "output_type": "execute_result"
    }
   ],
   "source": [
    "df2.sample(4) "
   ]
  },
  {
   "cell_type": "markdown",
   "id": "21fa6246",
   "metadata": {},
   "source": [
    "# 3 . Month Name "
   ]
  },
  {
   "cell_type": "code",
   "execution_count": 28,
   "id": "72753dc6",
   "metadata": {},
   "outputs": [],
   "source": [
    "df2['date_month_name'] = df2['date'].dt.month_name() "
   ]
  },
  {
   "cell_type": "code",
   "execution_count": 29,
   "id": "5076d3a8",
   "metadata": {},
   "outputs": [
    {
     "data": {
      "text/html": [
       "<div>\n",
       "<style scoped>\n",
       "    .dataframe tbody tr th:only-of-type {\n",
       "        vertical-align: middle;\n",
       "    }\n",
       "\n",
       "    .dataframe tbody tr th {\n",
       "        vertical-align: top;\n",
       "    }\n",
       "\n",
       "    .dataframe thead th {\n",
       "        text-align: right;\n",
       "    }\n",
       "</style>\n",
       "<table border=\"1\" class=\"dataframe\">\n",
       "  <thead>\n",
       "    <tr style=\"text-align: right;\">\n",
       "      <th></th>\n",
       "      <th>date</th>\n",
       "      <th>product_id</th>\n",
       "      <th>city_id</th>\n",
       "      <th>orders</th>\n",
       "      <th>date_year</th>\n",
       "      <th>date_month</th>\n",
       "      <th>date_month_name</th>\n",
       "    </tr>\n",
       "  </thead>\n",
       "  <tbody>\n",
       "    <tr>\n",
       "      <th>303853</th>\n",
       "      <td>2019-06-10</td>\n",
       "      <td>3432</td>\n",
       "      <td>13</td>\n",
       "      <td>20</td>\n",
       "      <td>2019</td>\n",
       "      <td>6</td>\n",
       "      <td>June</td>\n",
       "    </tr>\n",
       "    <tr>\n",
       "      <th>8328</th>\n",
       "      <td>2019-10-08</td>\n",
       "      <td>7028</td>\n",
       "      <td>26</td>\n",
       "      <td>12</td>\n",
       "      <td>2019</td>\n",
       "      <td>10</td>\n",
       "      <td>October</td>\n",
       "    </tr>\n",
       "    <tr>\n",
       "      <th>519338</th>\n",
       "      <td>2018-10-22</td>\n",
       "      <td>435</td>\n",
       "      <td>7</td>\n",
       "      <td>2</td>\n",
       "      <td>2018</td>\n",
       "      <td>10</td>\n",
       "      <td>October</td>\n",
       "    </tr>\n",
       "    <tr>\n",
       "      <th>210597</th>\n",
       "      <td>2019-02-13</td>\n",
       "      <td>3757</td>\n",
       "      <td>16</td>\n",
       "      <td>4</td>\n",
       "      <td>2019</td>\n",
       "      <td>2</td>\n",
       "      <td>February</td>\n",
       "    </tr>\n",
       "  </tbody>\n",
       "</table>\n",
       "</div>"
      ],
      "text/plain": [
       "             date  product_id  city_id  orders  date_year  date_month  \\\n",
       "303853 2019-06-10        3432       13      20       2019           6   \n",
       "8328   2019-10-08        7028       26      12       2019          10   \n",
       "519338 2018-10-22         435        7       2       2018          10   \n",
       "210597 2019-02-13        3757       16       4       2019           2   \n",
       "\n",
       "       date_month_name  \n",
       "303853            June  \n",
       "8328           October  \n",
       "519338         October  \n",
       "210597        February  "
      ]
     },
     "execution_count": 29,
     "metadata": {},
     "output_type": "execute_result"
    }
   ],
   "source": [
    "df2.sample(4) "
   ]
  },
  {
   "cell_type": "markdown",
   "id": "4a888f56",
   "metadata": {},
   "source": [
    "# 4 . Extract days "
   ]
  },
  {
   "cell_type": "code",
   "execution_count": 30,
   "id": "36a9eda3",
   "metadata": {},
   "outputs": [],
   "source": [
    "df2['date_days'] = df2['date'].dt.day "
   ]
  },
  {
   "cell_type": "code",
   "execution_count": 31,
   "id": "c69061b2",
   "metadata": {},
   "outputs": [
    {
     "data": {
      "text/html": [
       "<div>\n",
       "<style scoped>\n",
       "    .dataframe tbody tr th:only-of-type {\n",
       "        vertical-align: middle;\n",
       "    }\n",
       "\n",
       "    .dataframe tbody tr th {\n",
       "        vertical-align: top;\n",
       "    }\n",
       "\n",
       "    .dataframe thead th {\n",
       "        text-align: right;\n",
       "    }\n",
       "</style>\n",
       "<table border=\"1\" class=\"dataframe\">\n",
       "  <thead>\n",
       "    <tr style=\"text-align: right;\">\n",
       "      <th></th>\n",
       "      <th>date</th>\n",
       "      <th>product_id</th>\n",
       "      <th>city_id</th>\n",
       "      <th>orders</th>\n",
       "      <th>date_year</th>\n",
       "      <th>date_month</th>\n",
       "      <th>date_month_name</th>\n",
       "      <th>date_days</th>\n",
       "    </tr>\n",
       "  </thead>\n",
       "  <tbody>\n",
       "    <tr>\n",
       "      <th>294960</th>\n",
       "      <td>2019-06-30</td>\n",
       "      <td>2008</td>\n",
       "      <td>26</td>\n",
       "      <td>2</td>\n",
       "      <td>2019</td>\n",
       "      <td>6</td>\n",
       "      <td>June</td>\n",
       "      <td>30</td>\n",
       "    </tr>\n",
       "    <tr>\n",
       "      <th>172103</th>\n",
       "      <td>2019-02-23</td>\n",
       "      <td>1345</td>\n",
       "      <td>13</td>\n",
       "      <td>11</td>\n",
       "      <td>2019</td>\n",
       "      <td>2</td>\n",
       "      <td>February</td>\n",
       "      <td>23</td>\n",
       "    </tr>\n",
       "    <tr>\n",
       "      <th>443016</th>\n",
       "      <td>2018-11-22</td>\n",
       "      <td>6461</td>\n",
       "      <td>14</td>\n",
       "      <td>1</td>\n",
       "      <td>2018</td>\n",
       "      <td>11</td>\n",
       "      <td>November</td>\n",
       "      <td>22</td>\n",
       "    </tr>\n",
       "    <tr>\n",
       "      <th>79587</th>\n",
       "      <td>2019-11-23</td>\n",
       "      <td>6543</td>\n",
       "      <td>9</td>\n",
       "      <td>6</td>\n",
       "      <td>2019</td>\n",
       "      <td>11</td>\n",
       "      <td>November</td>\n",
       "      <td>23</td>\n",
       "    </tr>\n",
       "  </tbody>\n",
       "</table>\n",
       "</div>"
      ],
      "text/plain": [
       "             date  product_id  city_id  orders  date_year  date_month  \\\n",
       "294960 2019-06-30        2008       26       2       2019           6   \n",
       "172103 2019-02-23        1345       13      11       2019           2   \n",
       "443016 2018-11-22        6461       14       1       2018          11   \n",
       "79587  2019-11-23        6543        9       6       2019          11   \n",
       "\n",
       "       date_month_name  date_days  \n",
       "294960            June         30  \n",
       "172103        February         23  \n",
       "443016        November         22  \n",
       "79587         November         23  "
      ]
     },
     "execution_count": 31,
     "metadata": {},
     "output_type": "execute_result"
    }
   ],
   "source": [
    "df2.sample(4) "
   ]
  },
  {
   "cell_type": "markdown",
   "id": "637aa9dd",
   "metadata": {},
   "source": [
    "# 5 . dayofweek "
   ]
  },
  {
   "cell_type": "code",
   "execution_count": 32,
   "id": "dc12bd27",
   "metadata": {},
   "outputs": [],
   "source": [
    "df2['date_dayofweek'] = df2['date'].dt.dayofweek"
   ]
  },
  {
   "cell_type": "code",
   "execution_count": 33,
   "id": "debe74fe",
   "metadata": {},
   "outputs": [
    {
     "data": {
      "text/html": [
       "<div>\n",
       "<style scoped>\n",
       "    .dataframe tbody tr th:only-of-type {\n",
       "        vertical-align: middle;\n",
       "    }\n",
       "\n",
       "    .dataframe tbody tr th {\n",
       "        vertical-align: top;\n",
       "    }\n",
       "\n",
       "    .dataframe thead th {\n",
       "        text-align: right;\n",
       "    }\n",
       "</style>\n",
       "<table border=\"1\" class=\"dataframe\">\n",
       "  <thead>\n",
       "    <tr style=\"text-align: right;\">\n",
       "      <th></th>\n",
       "      <th>date</th>\n",
       "      <th>product_id</th>\n",
       "      <th>city_id</th>\n",
       "      <th>orders</th>\n",
       "      <th>date_year</th>\n",
       "      <th>date_month</th>\n",
       "      <th>date_month_name</th>\n",
       "      <th>date_days</th>\n",
       "      <th>date_dayofweek</th>\n",
       "    </tr>\n",
       "  </thead>\n",
       "  <tbody>\n",
       "    <tr>\n",
       "      <th>245267</th>\n",
       "      <td>2019-02-22</td>\n",
       "      <td>2031</td>\n",
       "      <td>29</td>\n",
       "      <td>1</td>\n",
       "      <td>2019</td>\n",
       "      <td>2</td>\n",
       "      <td>February</td>\n",
       "      <td>22</td>\n",
       "      <td>4</td>\n",
       "    </tr>\n",
       "    <tr>\n",
       "      <th>220634</th>\n",
       "      <td>2019-01-24</td>\n",
       "      <td>4305</td>\n",
       "      <td>22</td>\n",
       "      <td>11</td>\n",
       "      <td>2019</td>\n",
       "      <td>1</td>\n",
       "      <td>January</td>\n",
       "      <td>24</td>\n",
       "      <td>3</td>\n",
       "    </tr>\n",
       "    <tr>\n",
       "      <th>269142</th>\n",
       "      <td>2019-11-07</td>\n",
       "      <td>867</td>\n",
       "      <td>10</td>\n",
       "      <td>5</td>\n",
       "      <td>2019</td>\n",
       "      <td>11</td>\n",
       "      <td>November</td>\n",
       "      <td>7</td>\n",
       "      <td>3</td>\n",
       "    </tr>\n",
       "    <tr>\n",
       "      <th>235322</th>\n",
       "      <td>2019-03-22</td>\n",
       "      <td>4436</td>\n",
       "      <td>17</td>\n",
       "      <td>50</td>\n",
       "      <td>2019</td>\n",
       "      <td>3</td>\n",
       "      <td>March</td>\n",
       "      <td>22</td>\n",
       "      <td>4</td>\n",
       "    </tr>\n",
       "  </tbody>\n",
       "</table>\n",
       "</div>"
      ],
      "text/plain": [
       "             date  product_id  city_id  orders  date_year  date_month  \\\n",
       "245267 2019-02-22        2031       29       1       2019           2   \n",
       "220634 2019-01-24        4305       22      11       2019           1   \n",
       "269142 2019-11-07         867       10       5       2019          11   \n",
       "235322 2019-03-22        4436       17      50       2019           3   \n",
       "\n",
       "       date_month_name  date_days  date_dayofweek  \n",
       "245267        February         22               4  \n",
       "220634         January         24               3  \n",
       "269142        November          7               3  \n",
       "235322           March         22               4  "
      ]
     },
     "execution_count": 33,
     "metadata": {},
     "output_type": "execute_result"
    }
   ],
   "source": [
    "df2.sample(4) \n"
   ]
  },
  {
   "cell_type": "markdown",
   "id": "7e08283d",
   "metadata": {},
   "source": [
    "# 6 . day name "
   ]
  },
  {
   "cell_type": "code",
   "execution_count": 34,
   "id": "5832e122",
   "metadata": {},
   "outputs": [],
   "source": [
    "df2['date_day'] = df2['date'].dt.day_name() "
   ]
  },
  {
   "cell_type": "code",
   "execution_count": 35,
   "id": "1bafaab3",
   "metadata": {},
   "outputs": [
    {
     "data": {
      "text/html": [
       "<div>\n",
       "<style scoped>\n",
       "    .dataframe tbody tr th:only-of-type {\n",
       "        vertical-align: middle;\n",
       "    }\n",
       "\n",
       "    .dataframe tbody tr th {\n",
       "        vertical-align: top;\n",
       "    }\n",
       "\n",
       "    .dataframe thead th {\n",
       "        text-align: right;\n",
       "    }\n",
       "</style>\n",
       "<table border=\"1\" class=\"dataframe\">\n",
       "  <thead>\n",
       "    <tr style=\"text-align: right;\">\n",
       "      <th></th>\n",
       "      <th>date</th>\n",
       "      <th>product_id</th>\n",
       "      <th>city_id</th>\n",
       "      <th>orders</th>\n",
       "      <th>date_year</th>\n",
       "      <th>date_month</th>\n",
       "      <th>date_month_name</th>\n",
       "      <th>date_days</th>\n",
       "      <th>date_dayofweek</th>\n",
       "      <th>date_day</th>\n",
       "    </tr>\n",
       "  </thead>\n",
       "  <tbody>\n",
       "    <tr>\n",
       "      <th>92459</th>\n",
       "      <td>2019-12-02</td>\n",
       "      <td>60</td>\n",
       "      <td>24</td>\n",
       "      <td>42</td>\n",
       "      <td>2019</td>\n",
       "      <td>12</td>\n",
       "      <td>December</td>\n",
       "      <td>2</td>\n",
       "      <td>0</td>\n",
       "      <td>Monday</td>\n",
       "    </tr>\n",
       "    <tr>\n",
       "      <th>312543</th>\n",
       "      <td>2019-07-07</td>\n",
       "      <td>1954</td>\n",
       "      <td>13</td>\n",
       "      <td>3</td>\n",
       "      <td>2019</td>\n",
       "      <td>7</td>\n",
       "      <td>July</td>\n",
       "      <td>7</td>\n",
       "      <td>6</td>\n",
       "      <td>Sunday</td>\n",
       "    </tr>\n",
       "    <tr>\n",
       "      <th>414965</th>\n",
       "      <td>2018-10-25</td>\n",
       "      <td>3520</td>\n",
       "      <td>2</td>\n",
       "      <td>9</td>\n",
       "      <td>2018</td>\n",
       "      <td>10</td>\n",
       "      <td>October</td>\n",
       "      <td>25</td>\n",
       "      <td>3</td>\n",
       "      <td>Thursday</td>\n",
       "    </tr>\n",
       "    <tr>\n",
       "      <th>255611</th>\n",
       "      <td>2019-11-12</td>\n",
       "      <td>5917</td>\n",
       "      <td>2</td>\n",
       "      <td>46</td>\n",
       "      <td>2019</td>\n",
       "      <td>11</td>\n",
       "      <td>November</td>\n",
       "      <td>12</td>\n",
       "      <td>1</td>\n",
       "      <td>Tuesday</td>\n",
       "    </tr>\n",
       "  </tbody>\n",
       "</table>\n",
       "</div>"
      ],
      "text/plain": [
       "             date  product_id  city_id  orders  date_year  date_month  \\\n",
       "92459  2019-12-02          60       24      42       2019          12   \n",
       "312543 2019-07-07        1954       13       3       2019           7   \n",
       "414965 2018-10-25        3520        2       9       2018          10   \n",
       "255611 2019-11-12        5917        2      46       2019          11   \n",
       "\n",
       "       date_month_name  date_days  date_dayofweek  date_day  \n",
       "92459         December          2               0    Monday  \n",
       "312543            July          7               6    Sunday  \n",
       "414965         October         25               3  Thursday  \n",
       "255611        November         12               1   Tuesday  "
      ]
     },
     "execution_count": 35,
     "metadata": {},
     "output_type": "execute_result"
    }
   ],
   "source": [
    "df2.sample(4) "
   ]
  },
  {
   "cell_type": "markdown",
   "id": "228fe6a4",
   "metadata": {},
   "source": [
    "# is weekend "
   ]
  },
  {
   "cell_type": "code",
   "execution_count": 36,
   "id": "75985ed7",
   "metadata": {},
   "outputs": [
    {
     "data": {
      "text/html": [
       "<div>\n",
       "<style scoped>\n",
       "    .dataframe tbody tr th:only-of-type {\n",
       "        vertical-align: middle;\n",
       "    }\n",
       "\n",
       "    .dataframe tbody tr th {\n",
       "        vertical-align: top;\n",
       "    }\n",
       "\n",
       "    .dataframe thead th {\n",
       "        text-align: right;\n",
       "    }\n",
       "</style>\n",
       "<table border=\"1\" class=\"dataframe\">\n",
       "  <thead>\n",
       "    <tr style=\"text-align: right;\">\n",
       "      <th></th>\n",
       "      <th>date</th>\n",
       "      <th>date_year</th>\n",
       "      <th>date_month</th>\n",
       "      <th>date_month_name</th>\n",
       "      <th>date_days</th>\n",
       "      <th>date_dayofweek</th>\n",
       "      <th>date_day</th>\n",
       "      <th>date_is_weekend</th>\n",
       "    </tr>\n",
       "  </thead>\n",
       "  <tbody>\n",
       "    <tr>\n",
       "      <th>0</th>\n",
       "      <td>2019-12-16</td>\n",
       "      <td>2019</td>\n",
       "      <td>12</td>\n",
       "      <td>December</td>\n",
       "      <td>16</td>\n",
       "      <td>0</td>\n",
       "      <td>Monday</td>\n",
       "      <td>0</td>\n",
       "    </tr>\n",
       "    <tr>\n",
       "      <th>1</th>\n",
       "      <td>2019-12-16</td>\n",
       "      <td>2019</td>\n",
       "      <td>12</td>\n",
       "      <td>December</td>\n",
       "      <td>16</td>\n",
       "      <td>0</td>\n",
       "      <td>Monday</td>\n",
       "      <td>0</td>\n",
       "    </tr>\n",
       "    <tr>\n",
       "      <th>2</th>\n",
       "      <td>2019-12-16</td>\n",
       "      <td>2019</td>\n",
       "      <td>12</td>\n",
       "      <td>December</td>\n",
       "      <td>16</td>\n",
       "      <td>0</td>\n",
       "      <td>Monday</td>\n",
       "      <td>0</td>\n",
       "    </tr>\n",
       "    <tr>\n",
       "      <th>3</th>\n",
       "      <td>2019-12-16</td>\n",
       "      <td>2019</td>\n",
       "      <td>12</td>\n",
       "      <td>December</td>\n",
       "      <td>16</td>\n",
       "      <td>0</td>\n",
       "      <td>Monday</td>\n",
       "      <td>0</td>\n",
       "    </tr>\n",
       "    <tr>\n",
       "      <th>4</th>\n",
       "      <td>2019-12-16</td>\n",
       "      <td>2019</td>\n",
       "      <td>12</td>\n",
       "      <td>December</td>\n",
       "      <td>16</td>\n",
       "      <td>0</td>\n",
       "      <td>Monday</td>\n",
       "      <td>0</td>\n",
       "    </tr>\n",
       "  </tbody>\n",
       "</table>\n",
       "</div>"
      ],
      "text/plain": [
       "        date  date_year  date_month date_month_name  date_days  \\\n",
       "0 2019-12-16       2019          12        December         16   \n",
       "1 2019-12-16       2019          12        December         16   \n",
       "2 2019-12-16       2019          12        December         16   \n",
       "3 2019-12-16       2019          12        December         16   \n",
       "4 2019-12-16       2019          12        December         16   \n",
       "\n",
       "   date_dayofweek date_day  date_is_weekend  \n",
       "0               0   Monday                0  \n",
       "1               0   Monday                0  \n",
       "2               0   Monday                0  \n",
       "3               0   Monday                0  \n",
       "4               0   Monday                0  "
      ]
     },
     "execution_count": 36,
     "metadata": {},
     "output_type": "execute_result"
    }
   ],
   "source": [
    "df2['date_is_weekend'] = np.where(df2['date_day'].isin(['Sunday' , 'Saturday']) , 1,0)\n",
    "\n",
    "df2.drop(columns = ['product_id' , 'city_id' , 'orders']).head() "
   ]
  },
  {
   "cell_type": "code",
   "execution_count": null,
   "id": "3b82a6bb",
   "metadata": {},
   "outputs": [],
   "source": [
    "df2.sample(8)"
   ]
  },
  {
   "cell_type": "markdown",
   "id": "91f8d13b",
   "metadata": {},
   "source": [
    "# Extract weak of the year "
   ]
  },
  {
   "cell_type": "code",
   "execution_count": null,
   "id": "a5b0edc7",
   "metadata": {},
   "outputs": [],
   "source": [
    "df2['date_week'] = df2['date'].dt.week \n",
    "df2.drop(columns = ['product_id',  'city_id' , 'orders']).head() "
   ]
  },
  {
   "cell_type": "code",
   "execution_count": null,
   "id": "05e23e31",
   "metadata": {},
   "outputs": [],
   "source": [
    "df2.sample(8) "
   ]
  },
  {
   "cell_type": "code",
   "execution_count": null,
   "id": "d27252ec",
   "metadata": {},
   "outputs": [],
   "source": [
    "df2['quarter'] = df2['date'].dt.quarter \n",
    "\n",
    "df2.drop(columns = ['product_id' , 'city_id' , 'orders']).head(2) "
   ]
  },
  {
   "cell_type": "code",
   "execution_count": null,
   "id": "5112f34d",
   "metadata": {},
   "outputs": [],
   "source": [
    "df2.head(2) "
   ]
  },
  {
   "cell_type": "markdown",
   "id": "fdc2d899",
   "metadata": {},
   "source": [
    "# Extract time elapsed between dates "
   ]
  },
  {
   "cell_type": "code",
   "execution_count": null,
   "id": "f1e4b9a5",
   "metadata": {},
   "outputs": [],
   "source": [
    "import datetime \n",
    "\n",
    "today = datetime.datetime.today() \n",
    "\n",
    "today "
   ]
  },
  {
   "cell_type": "code",
   "execution_count": null,
   "id": "0a93bf34",
   "metadata": {},
   "outputs": [],
   "source": [
    "today - df2['date']"
   ]
  },
  {
   "cell_type": "code",
   "execution_count": null,
   "id": "d2017c2f",
   "metadata": {},
   "outputs": [],
   "source": [
    "(today - df2['date']).dt.days "
   ]
  },
  {
   "cell_type": "code",
   "execution_count": null,
   "id": "cab984b9",
   "metadata": {},
   "outputs": [],
   "source": [
    "# Months passed\n",
    "\n",
    "np.round((today -df2['date']) / np.timedelta64(1, 'M'),0)"
   ]
  },
  {
   "cell_type": "code",
   "execution_count": null,
   "id": "6529f67f",
   "metadata": {},
   "outputs": [],
   "source": [
    "df.info() "
   ]
  },
  {
   "cell_type": "code",
   "execution_count": null,
   "id": "f03f6704",
   "metadata": {},
   "outputs": [],
   "source": [
    "# converting to datetime datatype  \n",
    "df['date'] = pd.to_datetime(df['date'])"
   ]
  },
  {
   "cell_type": "code",
   "execution_count": null,
   "id": "b8bab96d",
   "metadata": {},
   "outputs": [],
   "source": [
    "df.head(2) "
   ]
  },
  {
   "cell_type": "code",
   "execution_count": null,
   "id": "bad0b6bf",
   "metadata": {},
   "outputs": [],
   "source": [
    "df.info() "
   ]
  },
  {
   "cell_type": "code",
   "execution_count": null,
   "id": "a1b8f8c4",
   "metadata": {},
   "outputs": [],
   "source": [
    "df['hour'] = df['date'].dt.hour \n",
    "df['minute'] = df['date'].dt.minute\n",
    "df['second'] = df['date'].dt.second "
   ]
  },
  {
   "cell_type": "code",
   "execution_count": null,
   "id": "ae4148bb",
   "metadata": {},
   "outputs": [],
   "source": [
    "df.head(4) "
   ]
  },
  {
   "cell_type": "markdown",
   "id": "3136a5b7",
   "metadata": {},
   "source": [
    "# Extract time part "
   ]
  },
  {
   "cell_type": "code",
   "execution_count": null,
   "id": "a1d57e44",
   "metadata": {},
   "outputs": [],
   "source": [
    "df['time'] = df['date'].dt.time "
   ]
  },
  {
   "cell_type": "code",
   "execution_count": null,
   "id": "0921a82b",
   "metadata": {},
   "outputs": [],
   "source": [
    "df.sample(3) "
   ]
  },
  {
   "cell_type": "code",
   "execution_count": null,
   "id": "8bcb01cb",
   "metadata": {},
   "outputs": [],
   "source": []
  }
 ],
 "metadata": {
  "kernelspec": {
   "display_name": "Python 3 (ipykernel)",
   "language": "python",
   "name": "python3"
  },
  "language_info": {
   "codemirror_mode": {
    "name": "ipython",
    "version": 3
   },
   "file_extension": ".py",
   "mimetype": "text/x-python",
   "name": "python",
   "nbconvert_exporter": "python",
   "pygments_lexer": "ipython3",
   "version": "3.9.13"
  }
 },
 "nbformat": 4,
 "nbformat_minor": 5
}
